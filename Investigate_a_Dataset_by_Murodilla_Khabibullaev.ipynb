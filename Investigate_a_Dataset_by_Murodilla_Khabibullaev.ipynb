{
 "cells": [
  {
   "cell_type": "markdown",
   "metadata": {},
   "source": [
    "> **Hi there!** Have you ever thought about how people live their lives in different countries!? Maybe you want to know how much annual income do they have? Or are you planning to move somewhere else, but can't decide? First things first, you might want to check my some investigations and visualisations about it! If so, let's get started!\n",
    "\n",
    "# Project: Investigate a Dataset (Quick overview of several countries' socio-economic indicators!)\n",
    "\n",
    "## Table of Contents\n",
    "<ul>\n",
    "<li><a href=\"#intro\">Introduction</a></li>\n",
    "<li><a href=\"#wrangling\">Data Wrangling</a></li>\n",
    "<li><a href=\"#eda\">Exploratory Data Analysis</a></li>\n",
    "<li><a href=\"#conclusions\">Conclusions</a></li>\n",
    "</ul>"
   ]
  },
  {
   "cell_type": "markdown",
   "metadata": {},
   "source": [
    "<a id='intro'></a>\n",
    "## Introduction\n",
    "\n",
    "> **So**, I came across an economical term, 'socio-economic development'. And I didn't know what is it. Then, I started my search on google as usual. Now, I have some idea about it. It has got several indicators and each of them has its specific meaning. Gross Domestic Product (GDP) indicates the value of products and services produced within a country in terms of money.\n",
    "Gross National Income (GNI) indicates the nations overal income inside and outside of a country. And another indicator is Purchasing Power Parity (PPP). It serves to get rid of value differences of money. It tells you how item you can purchase with the money you earned in a period of time. There are several another indicators which is also important. They are Human Development Index (HDI), Life Expectancy, Employment and so on. Now, let's do some investigations on them.\n",
    ">\n",
    "> Well, I just wanted to compare my country's socio-economic indicators with some other countries during the near past! How much GDP does Uzbekistan have? Is it changing forward or backward? What other indicators differ? And so..."
   ]
  },
  {
   "cell_type": "code",
   "execution_count": 1,
   "metadata": {},
   "outputs": [],
   "source": [
    "# Now we import some useful packages which help us on the go\n",
    "import numpy as np\n",
    "import pandas as pd\n",
    "import matplotlib.pyplot as plt\n",
    "import seaborn as sns\n",
    "%matplotlib inline\n"
   ]
  },
  {
   "cell_type": "markdown",
   "metadata": {},
   "source": [
    "<a id='wrangling'></a>\n",
    "## Data Wrangling\n",
    "\n",
    "> **As I said above** we need several indicators to look through and certainly sereval DataFrames. We need to read .csv files, clean them and wrangle some features. It needs a lot of time and work if we just do the coding again and again. To avoid it, let's create some function which helps us loading data and checking and cleaning. It will be helpful in future. First, let's look through what we do during the procces in example of GDP data.\n",
    "\n",
    "### General Properties"
   ]
  },
  {
   "cell_type": "code",
   "execution_count": 2,
   "metadata": {},
   "outputs": [
    {
     "data": {
      "text/html": [
       "<div>\n",
       "<style scoped>\n",
       "    .dataframe tbody tr th:only-of-type {\n",
       "        vertical-align: middle;\n",
       "    }\n",
       "\n",
       "    .dataframe tbody tr th {\n",
       "        vertical-align: top;\n",
       "    }\n",
       "\n",
       "    .dataframe thead th {\n",
       "        text-align: right;\n",
       "    }\n",
       "</style>\n",
       "<table border=\"1\" class=\"dataframe\">\n",
       "  <thead>\n",
       "    <tr style=\"text-align: right;\">\n",
       "      <th></th>\n",
       "      <th>country</th>\n",
       "      <th>1800</th>\n",
       "      <th>1801</th>\n",
       "      <th>1802</th>\n",
       "      <th>1803</th>\n",
       "      <th>1804</th>\n",
       "      <th>1805</th>\n",
       "      <th>1806</th>\n",
       "      <th>1807</th>\n",
       "      <th>1808</th>\n",
       "      <th>...</th>\n",
       "      <th>2004</th>\n",
       "      <th>2005</th>\n",
       "      <th>2006</th>\n",
       "      <th>2007</th>\n",
       "      <th>2008</th>\n",
       "      <th>2009</th>\n",
       "      <th>2010</th>\n",
       "      <th>2011</th>\n",
       "      <th>2012</th>\n",
       "      <th>2013</th>\n",
       "    </tr>\n",
       "  </thead>\n",
       "  <tbody>\n",
       "    <tr>\n",
       "      <th>0</th>\n",
       "      <td>Afghanistan</td>\n",
       "      <td>2.080000e+09</td>\n",
       "      <td>2.080000e+09</td>\n",
       "      <td>2.080000e+09</td>\n",
       "      <td>2.080000e+09</td>\n",
       "      <td>2.080000e+09</td>\n",
       "      <td>2.080000e+09</td>\n",
       "      <td>2.080000e+09</td>\n",
       "      <td>2.080000e+09</td>\n",
       "      <td>2.080000e+09</td>\n",
       "      <td>...</td>\n",
       "      <td>2.890000e+10</td>\n",
       "      <td>3.240000e+10</td>\n",
       "      <td>3.390000e+10</td>\n",
       "      <td>3.850000e+10</td>\n",
       "      <td>3.950000e+10</td>\n",
       "      <td>4.750000e+10</td>\n",
       "      <td>5.130000e+10</td>\n",
       "      <td>5.490000e+10</td>\n",
       "      <td>6.300000e+10</td>\n",
       "      <td>6.580000e+10</td>\n",
       "    </tr>\n",
       "    <tr>\n",
       "      <th>1</th>\n",
       "      <td>Albania</td>\n",
       "      <td>3.260000e+08</td>\n",
       "      <td>3.270000e+08</td>\n",
       "      <td>3.280000e+08</td>\n",
       "      <td>3.300000e+08</td>\n",
       "      <td>3.310000e+08</td>\n",
       "      <td>3.320000e+08</td>\n",
       "      <td>3.340000e+08</td>\n",
       "      <td>3.350000e+08</td>\n",
       "      <td>3.370000e+08</td>\n",
       "      <td>...</td>\n",
       "      <td>2.110000e+10</td>\n",
       "      <td>2.230000e+10</td>\n",
       "      <td>2.350000e+10</td>\n",
       "      <td>2.490000e+10</td>\n",
       "      <td>2.670000e+10</td>\n",
       "      <td>2.760000e+10</td>\n",
       "      <td>2.850000e+10</td>\n",
       "      <td>2.930000e+10</td>\n",
       "      <td>3.010000e+10</td>\n",
       "      <td>3.070000e+10</td>\n",
       "    </tr>\n",
       "  </tbody>\n",
       "</table>\n",
       "<p>2 rows × 215 columns</p>\n",
       "</div>"
      ],
      "text/plain": [
       "       country          1800          1801          1802          1803  \\\n",
       "0  Afghanistan  2.080000e+09  2.080000e+09  2.080000e+09  2.080000e+09   \n",
       "1      Albania  3.260000e+08  3.270000e+08  3.280000e+08  3.300000e+08   \n",
       "\n",
       "           1804          1805          1806          1807          1808  \\\n",
       "0  2.080000e+09  2.080000e+09  2.080000e+09  2.080000e+09  2.080000e+09   \n",
       "1  3.310000e+08  3.320000e+08  3.340000e+08  3.350000e+08  3.370000e+08   \n",
       "\n",
       "       ...               2004          2005          2006          2007  \\\n",
       "0      ...       2.890000e+10  3.240000e+10  3.390000e+10  3.850000e+10   \n",
       "1      ...       2.110000e+10  2.230000e+10  2.350000e+10  2.490000e+10   \n",
       "\n",
       "           2008          2009          2010          2011          2012  \\\n",
       "0  3.950000e+10  4.750000e+10  5.130000e+10  5.490000e+10  6.300000e+10   \n",
       "1  2.670000e+10  2.760000e+10  2.850000e+10  2.930000e+10  3.010000e+10   \n",
       "\n",
       "           2013  \n",
       "0  6.580000e+10  \n",
       "1  3.070000e+10  \n",
       "\n",
       "[2 rows x 215 columns]"
      ]
     },
     "execution_count": 2,
     "metadata": {},
     "output_type": "execute_result"
    }
   ],
   "source": [
    "# first we read .csv file and assign it to a variable\n",
    "# Purchasing Power Parity is adjusted so we don't need PPP data and worry about difference of money\n",
    "gdp = pd.read_csv('total_gdp_ppp_inflation_adjusted.csv')\n",
    "gdp.head(2)"
   ]
  },
  {
   "cell_type": "markdown",
   "metadata": {},
   "source": [
    "As you see the values of money is seen scientific form for large numbers, to avoid this we use the code below"
   ]
  },
  {
   "cell_type": "code",
   "execution_count": 3,
   "metadata": {},
   "outputs": [],
   "source": [
    "pd.options.display.float_format = '{:.2f}'.format"
   ]
  },
  {
   "cell_type": "code",
   "execution_count": 4,
   "metadata": {},
   "outputs": [
    {
     "data": {
      "text/html": [
       "<div>\n",
       "<style scoped>\n",
       "    .dataframe tbody tr th:only-of-type {\n",
       "        vertical-align: middle;\n",
       "    }\n",
       "\n",
       "    .dataframe tbody tr th {\n",
       "        vertical-align: top;\n",
       "    }\n",
       "\n",
       "    .dataframe thead th {\n",
       "        text-align: right;\n",
       "    }\n",
       "</style>\n",
       "<table border=\"1\" class=\"dataframe\">\n",
       "  <thead>\n",
       "    <tr style=\"text-align: right;\">\n",
       "      <th></th>\n",
       "      <th>country</th>\n",
       "      <th>1800</th>\n",
       "      <th>1801</th>\n",
       "      <th>1802</th>\n",
       "      <th>1803</th>\n",
       "      <th>1804</th>\n",
       "      <th>1805</th>\n",
       "      <th>1806</th>\n",
       "      <th>1807</th>\n",
       "      <th>1808</th>\n",
       "      <th>...</th>\n",
       "      <th>2004</th>\n",
       "      <th>2005</th>\n",
       "      <th>2006</th>\n",
       "      <th>2007</th>\n",
       "      <th>2008</th>\n",
       "      <th>2009</th>\n",
       "      <th>2010</th>\n",
       "      <th>2011</th>\n",
       "      <th>2012</th>\n",
       "      <th>2013</th>\n",
       "    </tr>\n",
       "  </thead>\n",
       "  <tbody>\n",
       "    <tr>\n",
       "      <th>0</th>\n",
       "      <td>Afghanistan</td>\n",
       "      <td>2080000000.00</td>\n",
       "      <td>2080000000.00</td>\n",
       "      <td>2080000000.00</td>\n",
       "      <td>2080000000.00</td>\n",
       "      <td>2080000000.00</td>\n",
       "      <td>2080000000.00</td>\n",
       "      <td>2080000000.00</td>\n",
       "      <td>2080000000.00</td>\n",
       "      <td>2080000000.00</td>\n",
       "      <td>...</td>\n",
       "      <td>28900000000.00</td>\n",
       "      <td>32400000000.00</td>\n",
       "      <td>33900000000.00</td>\n",
       "      <td>38500000000.00</td>\n",
       "      <td>39500000000.00</td>\n",
       "      <td>47500000000.00</td>\n",
       "      <td>51300000000.00</td>\n",
       "      <td>54900000000.00</td>\n",
       "      <td>63000000000.00</td>\n",
       "      <td>65800000000.00</td>\n",
       "    </tr>\n",
       "    <tr>\n",
       "      <th>1</th>\n",
       "      <td>Albania</td>\n",
       "      <td>326000000.00</td>\n",
       "      <td>327000000.00</td>\n",
       "      <td>328000000.00</td>\n",
       "      <td>330000000.00</td>\n",
       "      <td>331000000.00</td>\n",
       "      <td>332000000.00</td>\n",
       "      <td>334000000.00</td>\n",
       "      <td>335000000.00</td>\n",
       "      <td>337000000.00</td>\n",
       "      <td>...</td>\n",
       "      <td>21100000000.00</td>\n",
       "      <td>22300000000.00</td>\n",
       "      <td>23500000000.00</td>\n",
       "      <td>24900000000.00</td>\n",
       "      <td>26700000000.00</td>\n",
       "      <td>27600000000.00</td>\n",
       "      <td>28500000000.00</td>\n",
       "      <td>29300000000.00</td>\n",
       "      <td>30100000000.00</td>\n",
       "      <td>30700000000.00</td>\n",
       "    </tr>\n",
       "  </tbody>\n",
       "</table>\n",
       "<p>2 rows × 215 columns</p>\n",
       "</div>"
      ],
      "text/plain": [
       "       country          1800          1801          1802          1803  \\\n",
       "0  Afghanistan 2080000000.00 2080000000.00 2080000000.00 2080000000.00   \n",
       "1      Albania  326000000.00  327000000.00  328000000.00  330000000.00   \n",
       "\n",
       "           1804          1805          1806          1807          1808  \\\n",
       "0 2080000000.00 2080000000.00 2080000000.00 2080000000.00 2080000000.00   \n",
       "1  331000000.00  332000000.00  334000000.00  335000000.00  337000000.00   \n",
       "\n",
       "       ...                 2004           2005           2006           2007  \\\n",
       "0      ...       28900000000.00 32400000000.00 33900000000.00 38500000000.00   \n",
       "1      ...       21100000000.00 22300000000.00 23500000000.00 24900000000.00   \n",
       "\n",
       "            2008           2009           2010           2011           2012  \\\n",
       "0 39500000000.00 47500000000.00 51300000000.00 54900000000.00 63000000000.00   \n",
       "1 26700000000.00 27600000000.00 28500000000.00 29300000000.00 30100000000.00   \n",
       "\n",
       "            2013  \n",
       "0 65800000000.00  \n",
       "1 30700000000.00  \n",
       "\n",
       "[2 rows x 215 columns]"
      ]
     },
     "execution_count": 4,
     "metadata": {},
     "output_type": "execute_result"
    }
   ],
   "source": [
    "gdp.head(2)"
   ]
  },
  {
   "cell_type": "markdown",
   "metadata": {},
   "source": [
    "Now, it looks pretty good! As we are dealing with money, the scientific form isn't look ok! So, I want to investigate my data from 2000 to 2013 period of time, see how I can extract the period from the dataframe"
   ]
  },
  {
   "cell_type": "code",
   "execution_count": 5,
   "metadata": {},
   "outputs": [
    {
     "data": {
      "text/html": [
       "<div>\n",
       "<style scoped>\n",
       "    .dataframe tbody tr th:only-of-type {\n",
       "        vertical-align: middle;\n",
       "    }\n",
       "\n",
       "    .dataframe tbody tr th {\n",
       "        vertical-align: top;\n",
       "    }\n",
       "\n",
       "    .dataframe thead th {\n",
       "        text-align: right;\n",
       "    }\n",
       "</style>\n",
       "<table border=\"1\" class=\"dataframe\">\n",
       "  <thead>\n",
       "    <tr style=\"text-align: right;\">\n",
       "      <th></th>\n",
       "      <th>country</th>\n",
       "      <th>2000</th>\n",
       "      <th>2001</th>\n",
       "      <th>2002</th>\n",
       "      <th>2003</th>\n",
       "      <th>2004</th>\n",
       "      <th>2005</th>\n",
       "      <th>2006</th>\n",
       "      <th>2007</th>\n",
       "      <th>2008</th>\n",
       "      <th>2009</th>\n",
       "      <th>2010</th>\n",
       "      <th>2011</th>\n",
       "      <th>2012</th>\n",
       "      <th>2013</th>\n",
       "    </tr>\n",
       "  </thead>\n",
       "  <tbody>\n",
       "    <tr>\n",
       "      <th>0</th>\n",
       "      <td>Afghanistan</td>\n",
       "      <td>20400000000.00</td>\n",
       "      <td>18900000000.00</td>\n",
       "      <td>24100000000.00</td>\n",
       "      <td>27100000000.00</td>\n",
       "      <td>28900000000.00</td>\n",
       "      <td>32400000000.00</td>\n",
       "      <td>33900000000.00</td>\n",
       "      <td>38500000000.00</td>\n",
       "      <td>39500000000.00</td>\n",
       "      <td>47500000000.00</td>\n",
       "      <td>51300000000.00</td>\n",
       "      <td>54900000000.00</td>\n",
       "      <td>63000000000.00</td>\n",
       "      <td>65800000000.00</td>\n",
       "    </tr>\n",
       "    <tr>\n",
       "      <th>1</th>\n",
       "      <td>Albania</td>\n",
       "      <td>17000000000.00</td>\n",
       "      <td>18200000000.00</td>\n",
       "      <td>18800000000.00</td>\n",
       "      <td>19900000000.00</td>\n",
       "      <td>21100000000.00</td>\n",
       "      <td>22300000000.00</td>\n",
       "      <td>23500000000.00</td>\n",
       "      <td>24900000000.00</td>\n",
       "      <td>26700000000.00</td>\n",
       "      <td>27600000000.00</td>\n",
       "      <td>28500000000.00</td>\n",
       "      <td>29300000000.00</td>\n",
       "      <td>30100000000.00</td>\n",
       "      <td>30700000000.00</td>\n",
       "    </tr>\n",
       "  </tbody>\n",
       "</table>\n",
       "</div>"
      ],
      "text/plain": [
       "       country           2000           2001           2002           2003  \\\n",
       "0  Afghanistan 20400000000.00 18900000000.00 24100000000.00 27100000000.00   \n",
       "1      Albania 17000000000.00 18200000000.00 18800000000.00 19900000000.00   \n",
       "\n",
       "            2004           2005           2006           2007           2008  \\\n",
       "0 28900000000.00 32400000000.00 33900000000.00 38500000000.00 39500000000.00   \n",
       "1 21100000000.00 22300000000.00 23500000000.00 24900000000.00 26700000000.00   \n",
       "\n",
       "            2009           2010           2011           2012           2013  \n",
       "0 47500000000.00 51300000000.00 54900000000.00 63000000000.00 65800000000.00  \n",
       "1 27600000000.00 28500000000.00 29300000000.00 30100000000.00 30700000000.00  "
      ]
     },
     "execution_count": 5,
     "metadata": {},
     "output_type": "execute_result"
    }
   ],
   "source": [
    "# to do this we must create a list of years beacuse there are a lot of years to write it manually\n",
    "period = ['{}'.format(i) for i in range(2000, 2014)]\n",
    "\n",
    "# we also need country names so we must insert it to the list\n",
    "period.insert(0, 'country')\n",
    "\n",
    "# now we extract the data we needed from old dataframe\n",
    "gdp = gdp[period]\n",
    "gdp.head(2)"
   ]
  },
  {
   "cell_type": "markdown",
   "metadata": {},
   "source": [
    "You can see the indexes of the new data isn't much necessary so we can drop that and index by country."
   ]
  },
  {
   "cell_type": "code",
   "execution_count": 6,
   "metadata": {},
   "outputs": [
    {
     "data": {
      "text/html": [
       "<div>\n",
       "<style scoped>\n",
       "    .dataframe tbody tr th:only-of-type {\n",
       "        vertical-align: middle;\n",
       "    }\n",
       "\n",
       "    .dataframe tbody tr th {\n",
       "        vertical-align: top;\n",
       "    }\n",
       "\n",
       "    .dataframe thead th {\n",
       "        text-align: right;\n",
       "    }\n",
       "</style>\n",
       "<table border=\"1\" class=\"dataframe\">\n",
       "  <thead>\n",
       "    <tr style=\"text-align: right;\">\n",
       "      <th></th>\n",
       "      <th>2000</th>\n",
       "      <th>2001</th>\n",
       "      <th>2002</th>\n",
       "      <th>2003</th>\n",
       "      <th>2004</th>\n",
       "      <th>2005</th>\n",
       "      <th>2006</th>\n",
       "      <th>2007</th>\n",
       "      <th>2008</th>\n",
       "      <th>2009</th>\n",
       "      <th>2010</th>\n",
       "      <th>2011</th>\n",
       "      <th>2012</th>\n",
       "      <th>2013</th>\n",
       "    </tr>\n",
       "    <tr>\n",
       "      <th>country</th>\n",
       "      <th></th>\n",
       "      <th></th>\n",
       "      <th></th>\n",
       "      <th></th>\n",
       "      <th></th>\n",
       "      <th></th>\n",
       "      <th></th>\n",
       "      <th></th>\n",
       "      <th></th>\n",
       "      <th></th>\n",
       "      <th></th>\n",
       "      <th></th>\n",
       "      <th></th>\n",
       "      <th></th>\n",
       "    </tr>\n",
       "  </thead>\n",
       "  <tbody>\n",
       "    <tr>\n",
       "      <th>Afghanistan</th>\n",
       "      <td>20400000000.00</td>\n",
       "      <td>18900000000.00</td>\n",
       "      <td>24100000000.00</td>\n",
       "      <td>27100000000.00</td>\n",
       "      <td>28900000000.00</td>\n",
       "      <td>32400000000.00</td>\n",
       "      <td>33900000000.00</td>\n",
       "      <td>38500000000.00</td>\n",
       "      <td>39500000000.00</td>\n",
       "      <td>47500000000.00</td>\n",
       "      <td>51300000000.00</td>\n",
       "      <td>54900000000.00</td>\n",
       "      <td>63000000000.00</td>\n",
       "      <td>65800000000.00</td>\n",
       "    </tr>\n",
       "    <tr>\n",
       "      <th>Albania</th>\n",
       "      <td>17000000000.00</td>\n",
       "      <td>18200000000.00</td>\n",
       "      <td>18800000000.00</td>\n",
       "      <td>19900000000.00</td>\n",
       "      <td>21100000000.00</td>\n",
       "      <td>22300000000.00</td>\n",
       "      <td>23500000000.00</td>\n",
       "      <td>24900000000.00</td>\n",
       "      <td>26700000000.00</td>\n",
       "      <td>27600000000.00</td>\n",
       "      <td>28500000000.00</td>\n",
       "      <td>29300000000.00</td>\n",
       "      <td>30100000000.00</td>\n",
       "      <td>30700000000.00</td>\n",
       "    </tr>\n",
       "  </tbody>\n",
       "</table>\n",
       "</div>"
      ],
      "text/plain": [
       "                      2000           2001           2002           2003  \\\n",
       "country                                                                   \n",
       "Afghanistan 20400000000.00 18900000000.00 24100000000.00 27100000000.00   \n",
       "Albania     17000000000.00 18200000000.00 18800000000.00 19900000000.00   \n",
       "\n",
       "                      2004           2005           2006           2007  \\\n",
       "country                                                                   \n",
       "Afghanistan 28900000000.00 32400000000.00 33900000000.00 38500000000.00   \n",
       "Albania     21100000000.00 22300000000.00 23500000000.00 24900000000.00   \n",
       "\n",
       "                      2008           2009           2010           2011  \\\n",
       "country                                                                   \n",
       "Afghanistan 39500000000.00 47500000000.00 51300000000.00 54900000000.00   \n",
       "Albania     26700000000.00 27600000000.00 28500000000.00 29300000000.00   \n",
       "\n",
       "                      2012           2013  \n",
       "country                                    \n",
       "Afghanistan 63000000000.00 65800000000.00  \n",
       "Albania     30100000000.00 30700000000.00  "
      ]
     },
     "execution_count": 6,
     "metadata": {},
     "output_type": "execute_result"
    }
   ],
   "source": [
    "gdp.set_index('country', inplace = True)\n",
    "gdp.head(2)"
   ]
  },
  {
   "cell_type": "markdown",
   "metadata": {},
   "source": [
    "Looks pretty! Now, we can check for null values and duplicated values and can fix it if necessary."
   ]
  },
  {
   "cell_type": "markdown",
   "metadata": {},
   "source": [
    "> **Its turn to** clean our data as we wanted!\n",
    "\n",
    "### Data Cleaning (Clean your data as you wanted!)"
   ]
  },
  {
   "cell_type": "code",
   "execution_count": 7,
   "metadata": {},
   "outputs": [
    {
     "data": {
      "text/plain": [
       "(194, 14)"
      ]
     },
     "execution_count": 7,
     "metadata": {},
     "output_type": "execute_result"
    }
   ],
   "source": [
    "gdp.shape"
   ]
  },
  {
   "cell_type": "markdown",
   "metadata": {},
   "source": [
    "It looks like there are a lot of countries to compare! Let's check for null values. How much null values does it have?"
   ]
  },
  {
   "cell_type": "code",
   "execution_count": 8,
   "metadata": {},
   "outputs": [
    {
     "data": {
      "text/plain": [
       "22"
      ]
     },
     "execution_count": 8,
     "metadata": {},
     "output_type": "execute_result"
    }
   ],
   "source": [
    "gdp.isnull().sum().sum()"
   ]
  },
  {
   "cell_type": "markdown",
   "metadata": {},
   "source": [
    "Mhmm! There are exist null values. But it is not necessary to fix it if Uzbekistan hasn't got any. Because there are a lot of countries to compare. So, let's check it."
   ]
  },
  {
   "cell_type": "code",
   "execution_count": 9,
   "metadata": {},
   "outputs": [
    {
     "data": {
      "text/plain": [
       "0"
      ]
     },
     "execution_count": 9,
     "metadata": {},
     "output_type": "execute_result"
    }
   ],
   "source": [
    "gdp.loc['Uzbekistan'].isnull().sum()"
   ]
  },
  {
   "cell_type": "markdown",
   "metadata": {},
   "source": [
    "Good! There are not null values! We can move on checking for duplicated values and drop them if necessary."
   ]
  },
  {
   "cell_type": "code",
   "execution_count": 10,
   "metadata": {},
   "outputs": [
    {
     "data": {
      "text/plain": [
       "0"
      ]
     },
     "execution_count": 10,
     "metadata": {},
     "output_type": "execute_result"
    }
   ],
   "source": [
    "sum(gdp.duplicated())"
   ]
  },
  {
   "cell_type": "markdown",
   "metadata": {},
   "source": [
    "That looks clean! I think it's time to do some exploratory analysis and make some visualizations. But, To do this we need another several dataframes as mentioned in introduction. We need to load them, check them and check them if necessary. Oh, no! Is there a lot of work to do, then? Don't worry. There isn't that much! Because we can create a function which helps to look through a new loading data. And It would be pretty cool!"
   ]
  },
  {
   "cell_type": "markdown",
   "metadata": {},
   "source": [
    "So far we have done several tasks to get the needed data and we can integrate each step to a single function to help shortening our job during this procces. Then we can do them all at one call."
   ]
  },
  {
   "cell_type": "code",
   "execution_count": 11,
   "metadata": {},
   "outputs": [],
   "source": [
    "# This function helps us reading data and do some investigations\n",
    "def fetch_me(df, start, stop):\n",
    "    # this helps us scientific format of large numbers\n",
    "    pd.options.display.float_format = '{:.2f}'.format\n",
    "    \n",
    "    # reads a DataFrame\n",
    "    data = pd.read_csv(df)\n",
    "    \n",
    "    # extracts a DataFrame for a given period and indexes by country\n",
    "    period_we_need = ['{}'.format(i) for i in range(start, stop + 1)]\n",
    "    period_we_need.insert(0, 'country')\n",
    "    data = data[period_we_need]\n",
    "    data.set_index('country', inplace = True)\n",
    "    \n",
    "    # prints a quick overview about data\n",
    "    print('{} edited has a shape of: '.format(df), data.shape)\n",
    "    if sum(data.isnull().sum()) > 0:\n",
    "        print('It has {} null values, you can check and fix it!'.format(sum(data.isnull().sum())))\n",
    "        print('Uzbekistan has {} null values!'.format(data.loc['Uzbekistan'].isnull().sum()))\n",
    "    if sum(data.duplicated()) > 0:\n",
    "        print('It has {} duplicated values, you can drop it!'.format(sum(data.duplicated())))\n",
    "    if (sum(data.isnull().sum()) == 0) and (sum(data.duplicated()) == 0):\n",
    "        print('It looks clean, you can do further investigations if you want!')\n",
    "    \n",
    "    # returns the data we need\n",
    "    return data\n"
   ]
  },
  {
   "cell_type": "markdown",
   "metadata": {},
   "source": [
    "Now, our function is ready. Let's ask the buddy to help us!"
   ]
  },
  {
   "cell_type": "code",
   "execution_count": 12,
   "metadata": {},
   "outputs": [
    {
     "name": "stdout",
     "output_type": "stream",
     "text": [
      "gnipercapita_ppp_current_international.csv edited has a shape of:  (185, 14)\n",
      "It has 31 null values, you can check and fix it!\n",
      "Uzbekistan has 0 null values!\n"
     ]
    }
   ],
   "source": [
    "gni = fetch_me('gnipercapita_ppp_current_international.csv', 2000, 2013)"
   ]
  },
  {
   "cell_type": "markdown",
   "metadata": {},
   "source": [
    "That worked fine! Let's look at the structure apperance of dataframe."
   ]
  },
  {
   "cell_type": "code",
   "execution_count": 13,
   "metadata": {},
   "outputs": [
    {
     "data": {
      "text/html": [
       "<div>\n",
       "<style scoped>\n",
       "    .dataframe tbody tr th:only-of-type {\n",
       "        vertical-align: middle;\n",
       "    }\n",
       "\n",
       "    .dataframe tbody tr th {\n",
       "        vertical-align: top;\n",
       "    }\n",
       "\n",
       "    .dataframe thead th {\n",
       "        text-align: right;\n",
       "    }\n",
       "</style>\n",
       "<table border=\"1\" class=\"dataframe\">\n",
       "  <thead>\n",
       "    <tr style=\"text-align: right;\">\n",
       "      <th></th>\n",
       "      <th>2000</th>\n",
       "      <th>2001</th>\n",
       "      <th>2002</th>\n",
       "      <th>2003</th>\n",
       "      <th>2004</th>\n",
       "      <th>2005</th>\n",
       "      <th>2006</th>\n",
       "      <th>2007</th>\n",
       "      <th>2008</th>\n",
       "      <th>2009</th>\n",
       "      <th>2010</th>\n",
       "      <th>2011</th>\n",
       "      <th>2012</th>\n",
       "      <th>2013</th>\n",
       "    </tr>\n",
       "    <tr>\n",
       "      <th>country</th>\n",
       "      <th></th>\n",
       "      <th></th>\n",
       "      <th></th>\n",
       "      <th></th>\n",
       "      <th></th>\n",
       "      <th></th>\n",
       "      <th></th>\n",
       "      <th></th>\n",
       "      <th></th>\n",
       "      <th></th>\n",
       "      <th></th>\n",
       "      <th></th>\n",
       "      <th></th>\n",
       "      <th></th>\n",
       "    </tr>\n",
       "  </thead>\n",
       "  <tbody>\n",
       "    <tr>\n",
       "      <th>Afghanistan</th>\n",
       "      <td>nan</td>\n",
       "      <td>nan</td>\n",
       "      <td>870.00</td>\n",
       "      <td>920.00</td>\n",
       "      <td>920.00</td>\n",
       "      <td>1010.00</td>\n",
       "      <td>1070.00</td>\n",
       "      <td>1210.00</td>\n",
       "      <td>1250.00</td>\n",
       "      <td>1490.00</td>\n",
       "      <td>1590.00</td>\n",
       "      <td>1680</td>\n",
       "      <td>1900.00</td>\n",
       "      <td>1940.00</td>\n",
       "    </tr>\n",
       "    <tr>\n",
       "      <th>Albania</th>\n",
       "      <td>4150.00</td>\n",
       "      <td>4600.00</td>\n",
       "      <td>4870.00</td>\n",
       "      <td>5250.00</td>\n",
       "      <td>5650.00</td>\n",
       "      <td>6060.00</td>\n",
       "      <td>6830.00</td>\n",
       "      <td>7490.00</td>\n",
       "      <td>8270.00</td>\n",
       "      <td>8670.00</td>\n",
       "      <td>9540.00</td>\n",
       "      <td>10200</td>\n",
       "      <td>10500.00</td>\n",
       "      <td>10800.00</td>\n",
       "    </tr>\n",
       "  </tbody>\n",
       "</table>\n",
       "</div>"
      ],
      "text/plain": [
       "               2000    2001    2002    2003    2004    2005    2006    2007  \\\n",
       "country                                                                       \n",
       "Afghanistan     nan     nan  870.00  920.00  920.00 1010.00 1070.00 1210.00   \n",
       "Albania     4150.00 4600.00 4870.00 5250.00 5650.00 6060.00 6830.00 7490.00   \n",
       "\n",
       "               2008    2009    2010   2011     2012     2013  \n",
       "country                                                       \n",
       "Afghanistan 1250.00 1490.00 1590.00   1680  1900.00  1940.00  \n",
       "Albania     8270.00 8670.00 9540.00  10200 10500.00 10800.00  "
      ]
     },
     "execution_count": 13,
     "metadata": {},
     "output_type": "execute_result"
    }
   ],
   "source": [
    "gni.head(2)"
   ]
  },
  {
   "cell_type": "markdown",
   "metadata": {},
   "source": [
    "That's working. Now, let's load all of the necessary files. "
   ]
  },
  {
   "cell_type": "code",
   "execution_count": 14,
   "metadata": {},
   "outputs": [
    {
     "name": "stdout",
     "output_type": "stream",
     "text": [
      "aged_15plus_employment_rate_percent.csv edited has a shape of:  (179, 14)\n",
      "It looks clean, you can do further investigations if you want!\n"
     ]
    }
   ],
   "source": [
    "employment = fetch_me('aged_15plus_employment_rate_percent.csv', 2000, 2013)"
   ]
  },
  {
   "cell_type": "code",
   "execution_count": 15,
   "metadata": {},
   "outputs": [
    {
     "name": "stdout",
     "output_type": "stream",
     "text": [
      "gini.csv edited has a shape of:  (195, 14)\n",
      "It has 23 duplicated values, you can drop it!\n"
     ]
    }
   ],
   "source": [
    "inequality = fetch_me('gini.csv', 2000, 2013)"
   ]
  },
  {
   "cell_type": "markdown",
   "metadata": {},
   "source": [
    "Mhmm! there are some duplicated values. Let's check and remove them."
   ]
  },
  {
   "cell_type": "code",
   "execution_count": 16,
   "metadata": {},
   "outputs": [
    {
     "data": {
      "text/plain": [
       "country\n",
       "Afghanistan               False\n",
       "Albania                   False\n",
       "Algeria                   False\n",
       "Andorra                   False\n",
       "Angola                    False\n",
       "Antigua and Barbuda        True\n",
       "Argentina                 False\n",
       "Armenia                   False\n",
       "Australia                 False\n",
       "Austria                   False\n",
       "Azerbaijan                False\n",
       "Bahamas                   False\n",
       "Bahrain                    True\n",
       "Bangladesh                False\n",
       "Barbados                  False\n",
       "Belarus                   False\n",
       "Belgium                   False\n",
       "Belize                    False\n",
       "Benin                     False\n",
       "Bhutan                    False\n",
       "Bolivia                   False\n",
       "Bosnia and Herzegovina    False\n",
       "Botswana                  False\n",
       "Brazil                    False\n",
       "Brunei                     True\n",
       "Bulgaria                  False\n",
       "Burkina Faso              False\n",
       "Burundi                   False\n",
       "Cambodia                  False\n",
       "Cameroon                  False\n",
       "                          ...  \n",
       "Sudan                     False\n",
       "Suriname                  False\n",
       "Swaziland                 False\n",
       "Sweden                    False\n",
       "Switzerland               False\n",
       "Syria                     False\n",
       "Tajikistan                False\n",
       "Tanzania                  False\n",
       "Thailand                  False\n",
       "Timor-Leste               False\n",
       "Togo                      False\n",
       "Tonga                     False\n",
       "Trinidad and Tobago       False\n",
       "Tunisia                   False\n",
       "Turkey                    False\n",
       "Turkmenistan              False\n",
       "Tuvalu                    False\n",
       "Uganda                    False\n",
       "Ukraine                   False\n",
       "United Arab Emirates       True\n",
       "United Kingdom            False\n",
       "United States             False\n",
       "Uruguay                   False\n",
       "Uzbekistan                False\n",
       "Vanuatu                   False\n",
       "Venezuela                 False\n",
       "Vietnam                   False\n",
       "Yemen                     False\n",
       "Zambia                    False\n",
       "Zimbabwe                  False\n",
       "Length: 195, dtype: bool"
      ]
     },
     "execution_count": 16,
     "metadata": {},
     "output_type": "execute_result"
    }
   ],
   "source": [
    "inequality.duplicated()"
   ]
  },
  {
   "cell_type": "code",
   "execution_count": 17,
   "metadata": {},
   "outputs": [
    {
     "data": {
      "text/plain": [
       "0"
      ]
     },
     "execution_count": 17,
     "metadata": {},
     "output_type": "execute_result"
    }
   ],
   "source": [
    "inequality.drop_duplicates(inplace = True)\n",
    "inequality.duplicated().sum()"
   ]
  },
  {
   "cell_type": "markdown",
   "metadata": {},
   "source": [
    "Well, let's move on loading data!"
   ]
  },
  {
   "cell_type": "code",
   "execution_count": 18,
   "metadata": {},
   "outputs": [
    {
     "name": "stdout",
     "output_type": "stream",
     "text": [
      "hdi_human_development_index.csv edited has a shape of:  (187, 14)\n",
      "It has 123 null values, you can check and fix it!\n",
      "Uzbekistan has 0 null values!\n"
     ]
    }
   ],
   "source": [
    "hdi = fetch_me('hdi_human_development_index.csv', 2000, 2013)"
   ]
  },
  {
   "cell_type": "code",
   "execution_count": 19,
   "metadata": {},
   "outputs": [
    {
     "name": "stdout",
     "output_type": "stream",
     "text": [
      "life_expectancy_years.csv edited has a shape of:  (187, 14)\n",
      "It looks clean, you can do further investigations if you want!\n"
     ]
    }
   ],
   "source": [
    "life_expectancy = fetch_me('life_expectancy_years.csv', 2000, 2013)"
   ]
  },
  {
   "cell_type": "markdown",
   "metadata": {
    "collapsed": true
   },
   "source": [
    "Now, we load all of our necessary data. If there is any left, we can fetch them on the go. So let's do some analysis.\n"
   ]
  },
  {
   "cell_type": "markdown",
   "metadata": {},
   "source": [
    "<a id='eda'></a>\n",
    "## Exploratory Data Analysis\n",
    "\n",
    "> **In this part** of our project we will do some visualisations to help us easily recognize data, differences and tendencies.\n",
    "\n",
    "### Research Question 1 (How much GDP does Uzbekistan have? Is it changing forward or backward?)"
   ]
  },
  {
   "cell_type": "markdown",
   "metadata": {},
   "source": [
    "So, let's first extract the data which related to Uzbekistan."
   ]
  },
  {
   "cell_type": "code",
   "execution_count": 20,
   "metadata": {},
   "outputs": [
    {
     "data": {
      "text/plain": [
       "2000   61200000000.00\n",
       "2001   63600000000.00\n",
       "2002   65800000000.00\n",
       "2003   68200000000.00\n",
       "2004   72900000000.00\n",
       "Name: Uzbekistan, dtype: float64"
      ]
     },
     "execution_count": 20,
     "metadata": {},
     "output_type": "execute_result"
    }
   ],
   "source": [
    "# We have seen the structure of gdp DataFrame, It has got columns in year and index in country names\n",
    "# let's extract data by the index of Uzbekistan\n",
    "uz_gdp = gdp.loc['Uzbekistan']\n",
    "uz_gdp.head()"
   ]
  },
  {
   "cell_type": "markdown",
   "metadata": {},
   "source": [
    "Now, we can create a bar chart and see the data in visuals."
   ]
  },
  {
   "cell_type": "code",
   "execution_count": 21,
   "metadata": {},
   "outputs": [
    {
     "data": {
      "text/plain": [
       "<matplotlib.axes._subplots.AxesSubplot at 0x7fe366cd2320>"
      ]
     },
     "execution_count": 21,
     "metadata": {},
     "output_type": "execute_result"
    },
    {
     "data": {
      "image/png": "[encoded data removed]",
      "text/plain": [
       "<matplotlib.figure.Figure at 0x7fe366cc4668>"
      ]
     },
     "metadata": {
      "needs_background": "light"
     },
     "output_type": "display_data"
    }
   ],
   "source": [
    "# to plot a bar chart\n",
    "uz_gdp.plot.bar(color = 'skyblue')"
   ]
  },
  {
   "cell_type": "markdown",
   "metadata": {},
   "source": [
    "You can see the visual above that, there is no indicators to show what is what. And again the old problem scintific form for money values, see how we can solve this."
   ]
  },
  {
   "cell_type": "code",
   "execution_count": 22,
   "metadata": {},
   "outputs": [
    {
     "data": {
      "image/png": "[encoded data removed]",
      "text/plain": [
       "<matplotlib.figure.Figure at 0x7fe366c595f8>"
      ]
     },
     "metadata": {
      "needs_background": "light"
     },
     "output_type": "display_data"
    }
   ],
   "source": [
    "uz_gdp.plot.bar(color = 'skyblue')\n",
    "\n",
    "# to put title and axis labels we can use the code below\n",
    "plt.title('GDP of Uzbekistan in a period of 2000 - 2013')\n",
    "plt.xlabel('Years')\n",
    "plt.ylabel('Dollars')\n",
    "\n",
    "# to avoid scientific form in plot we can use the code below\n",
    "plt.ticklabel_format(style = 'plain', axis = 'y')"
   ]
  },
  {
   "cell_type": "markdown",
   "metadata": {},
   "source": [
    "Now, it is more clear visial. We can find the answer for both questions here. How much GDP does Uzbekistan has? And Is it changing forward or backward? It has an average of 100 billion dollars GDP and It is changing upward."
   ]
  },
  {
   "cell_type": "markdown",
   "metadata": {},
   "source": [
    "How about making some comparisions! It would be okey? OK, let's go!"
   ]
  },
  {
   "cell_type": "code",
   "execution_count": 23,
   "metadata": {},
   "outputs": [
    {
     "data": {
      "image/png": "[encoded data removed]",
      "text/plain": [
       "<matplotlib.figure.Figure at 0x7fe364c1a128>"
      ]
     },
     "metadata": {
      "needs_background": "light"
     },
     "output_type": "display_data"
    }
   ],
   "source": [
    "# First of all we need to extract several countries. We can do it by the way selecting through index\n",
    "# but what about using numpy's Transpose function? It will be more convenient I think.\n",
    "gdps_for_comparision = gdp.T[['United States', 'Norway', 'Uzbekistan']]\n",
    "\n",
    "# let's draw a visual\n",
    "gdps_for_comparision.plot.bar()\n",
    "\n",
    "# you know what we use to plot more clear visual, right?\n",
    "plt.title('GDP differences of United States, Norway and Uzbekistan')\n",
    "plt.xlabel('Years')\n",
    "plt.ylabel('Dollars')\n",
    "\n",
    "plt.ticklabel_format(style = 'plain', axis = 'y')"
   ]
  },
  {
   "cell_type": "markdown",
   "metadata": {},
   "source": [
    "Uhu! Look at the difference! USA looks like to have got a huge amount of GDP. The visual can tell us much but I want to make some other visual and different apperance. So, I don't want to write a lot of lines of code in the future and going to create some function which does comparision the way I liked! Now, let's begin."
   ]
  },
  {
   "cell_type": "code",
   "execution_count": 24,
   "metadata": {},
   "outputs": [],
   "source": [
    "# this function plots bar for comparing at most 6 countries\n",
    "def plot_my_chart(title, x, y, df, country):\n",
    "    # this line of code for transposing  table so that swapping places of colums and rows\n",
    "    data = df.T\n",
    "    \n",
    "    #this is for providing different colors for bars\n",
    "    list_color = ['blue', 'orange', 'lightgreen', 'purple', 'green', 'pink', 'yellow']\n",
    "    l = -1\n",
    "    \n",
    "    # this loop plots several bar charts in one background\n",
    "    for i in country:\n",
    "        l += 1\n",
    "        chart = data[i].plot.bar(color = '{}'.format(list_color[l]), alpha = 0.5, legend = '{}'.format(i), figsize = (12, 6))\n",
    "        \n",
    "        #this part names labels and title in flexible way\n",
    "        if i == country[-1]:\n",
    "            title = title.format(i)\n",
    "        elif i == country[-2]:\n",
    "            title = title.format(i) + ' and {}'\n",
    "        else:\n",
    "            title = title.format(i) + ', {}'\n",
    "        \n",
    "        plt.title(title)\n",
    "        plt.xlabel(x)\n",
    "        plt.ylabel(y)\n",
    "        \n",
    "        # and this part serves to avoid scientific forms of huge numbers \n",
    "        plt.ticklabel_format(style = 'plain', axis = 'y')\n",
    "        \n",
    "    return chart\n"
   ]
  },
  {
   "cell_type": "markdown",
   "metadata": {},
   "source": [
    "Great! Nearly done. What about checking the new function with other dataframes. Consider you want to GNI per capita differences for the countries above. It can tell us each person's average annual income for people living in a country. Let's check it."
   ]
  },
  {
   "cell_type": "code",
   "execution_count": 25,
   "metadata": {},
   "outputs": [
    {
     "data": {
      "text/plain": [
       "<matplotlib.axes._subplots.AxesSubplot at 0x7fe364a687b8>"
      ]
     },
     "execution_count": 25,
     "metadata": {},
     "output_type": "execute_result"
    },
    {
     "data": {
      "image/png": "[encoded data removed]",
      "text/plain": [
       "<matplotlib.figure.Figure at 0x7fe364b03e48>"
      ]
     },
     "metadata": {
      "needs_background": "light"
     },
     "output_type": "display_data"
    }
   ],
   "source": [
    "# we can put title and labels at once, and select a country or several countries from a dataframe with the function\n",
    "plot_my_chart('GNI per capita differences of {}', 'Years', 'Dollars', gni, ['United States', 'Norway', 'Uzbekistan'])"
   ]
  },
  {
   "cell_type": "markdown",
   "metadata": {},
   "source": [
    "Wow! that's geat. Look at the chart! A person living in Uzbekistan can earn on average 4 or 5 thousand dollars a year while a person living in the other two can earn up to several ten thousand dollars a year. And you can see the difference of macro and micro economic metrics. In the earlier visualisation the GDP indicator of USA is far more larger than tha other two. Aproximately, several ten times more. If we look at the GNI of USA, it is still ten times more than Uzbekistan's but nearly same as GNI of Norway. Thus, GDP itself can't tell us much. So, we must look at the other indicators more clearly understand what is going on here. Then, let's look through other indicators too."
   ]
  },
  {
   "cell_type": "markdown",
   "metadata": {},
   "source": [
    "So, It is turn to investigate the inequality indicator which is gini coefficient. It can serves to give information about how equally money is spread among the people. I think it must be economical indicator."
   ]
  },
  {
   "cell_type": "code",
   "execution_count": 26,
   "metadata": {},
   "outputs": [
    {
     "data": {
      "text/plain": [
       "<matplotlib.axes._subplots.AxesSubplot at 0x7fe3649f9b00>"
      ]
     },
     "execution_count": 26,
     "metadata": {},
     "output_type": "execute_result"
    },
    {
     "data": {
      "image/png": "[encoded data removed]",
      "text/plain": [
       "<matplotlib.figure.Figure at 0x7fe3649c0278>"
      ]
     },
     "metadata": {
      "needs_background": "light"
     },
     "output_type": "display_data"
    }
   ],
   "source": [
    "# I want to check it for different countries\n",
    "plot_my_chart('Inequality indices of {}', 'Years', 'GINI coefficient', inequality, ['Russia', 'Uzbekistan', 'Australia', 'South Korea'])"
   ]
  },
  {
   "cell_type": "markdown",
   "metadata": {},
   "source": [
    "You can see a little information about how money is spread among the people. But if we compare too many countries in one chart, it may be a little mess I think."
   ]
  },
  {
   "cell_type": "markdown",
   "metadata": {},
   "source": [
    "So, what about grouping countries with different masks and do closer insights. Let's do that!"
   ]
  },
  {
   "cell_type": "code",
   "execution_count": 27,
   "metadata": {},
   "outputs": [],
   "source": [
    "# I want to make another fuction which helps to extract differen coutries from data table\n",
    "# I think you have seen the function above, it is a part of plot_my_chart function\n",
    "def extract_group(df, country):\n",
    "    data = df.T\n",
    "    return data[country]"
   ]
  },
  {
   "cell_type": "markdown",
   "metadata": {},
   "source": [
    "Let's check how it works."
   ]
  },
  {
   "cell_type": "code",
   "execution_count": 28,
   "metadata": {},
   "outputs": [
    {
     "data": {
      "text/html": [
       "<div>\n",
       "<style scoped>\n",
       "    .dataframe tbody tr th:only-of-type {\n",
       "        vertical-align: middle;\n",
       "    }\n",
       "\n",
       "    .dataframe tbody tr th {\n",
       "        vertical-align: top;\n",
       "    }\n",
       "\n",
       "    .dataframe thead th {\n",
       "        text-align: right;\n",
       "    }\n",
       "</style>\n",
       "<table border=\"1\" class=\"dataframe\">\n",
       "  <thead>\n",
       "    <tr style=\"text-align: right;\">\n",
       "      <th>country</th>\n",
       "      <th>Uzbekistan</th>\n",
       "      <th>Tajikistan</th>\n",
       "      <th>South Korea</th>\n",
       "      <th>Japan</th>\n",
       "      <th>China</th>\n",
       "    </tr>\n",
       "  </thead>\n",
       "  <tbody>\n",
       "    <tr>\n",
       "      <th>2000</th>\n",
       "      <td>1950.00</td>\n",
       "      <td>900.00</td>\n",
       "      <td>18000.00</td>\n",
       "      <td>27200.00</td>\n",
       "      <td>2900.00</td>\n",
       "    </tr>\n",
       "    <tr>\n",
       "      <th>2001</th>\n",
       "      <td>2050.00</td>\n",
       "      <td>990.00</td>\n",
       "      <td>19100.00</td>\n",
       "      <td>27900.00</td>\n",
       "      <td>3180.00</td>\n",
       "    </tr>\n",
       "    <tr>\n",
       "      <th>2002</th>\n",
       "      <td>2150.00</td>\n",
       "      <td>1090.00</td>\n",
       "      <td>20700.00</td>\n",
       "      <td>28600.00</td>\n",
       "      <td>3520.00</td>\n",
       "    </tr>\n",
       "  </tbody>\n",
       "</table>\n",
       "</div>"
      ],
      "text/plain": [
       "country  Uzbekistan  Tajikistan  South Korea    Japan   China\n",
       "2000        1950.00      900.00     18000.00 27200.00 2900.00\n",
       "2001        2050.00      990.00     19100.00 27900.00 3180.00\n",
       "2002        2150.00     1090.00     20700.00 28600.00 3520.00"
      ]
     },
     "execution_count": 28,
     "metadata": {},
     "output_type": "execute_result"
    }
   ],
   "source": [
    "# so I want to extract a group with the mask of asia, and check for gni\n",
    "asia = extract_group(gni, ['Uzbekistan', 'Tajikistan', 'South Korea', 'Japan', 'China'])\n",
    "\n",
    "# let's check how it worked\n",
    "asia.head(3)"
   ]
  },
  {
   "cell_type": "markdown",
   "metadata": {},
   "source": [
    "It is working perfect! let's plot a line chart for them."
   ]
  },
  {
   "cell_type": "code",
   "execution_count": 29,
   "metadata": {},
   "outputs": [
    {
     "data": {
      "image/png": "[encoded data removed]",
      "text/plain": [
       "<matplotlib.figure.Figure at 0x7fe36489f5c0>"
      ]
     },
     "metadata": {
      "needs_background": "light"
     },
     "output_type": "display_data"
    }
   ],
   "source": [
    "# to plot a line we just need to use plot itself\n",
    "asia.plot(figsize = (12, 6))\n",
    "\n",
    "plt.title('GNI tendencies of Asia')\n",
    "plt.xlabel('Years')\n",
    "plt.ylabel('Dollars')\n",
    "\n",
    "plt.ticklabel_format(style = 'plain', axis = 'y')"
   ]
  },
  {
   "cell_type": "markdown",
   "metadata": {},
   "source": [
    "Japan and South Korea's GNI tendencies much more faster growing upwards the the other ones."
   ]
  },
  {
   "cell_type": "code",
   "execution_count": 30,
   "metadata": {},
   "outputs": [
    {
     "data": {
      "text/html": [
       "<div>\n",
       "<style scoped>\n",
       "    .dataframe tbody tr th:only-of-type {\n",
       "        vertical-align: middle;\n",
       "    }\n",
       "\n",
       "    .dataframe tbody tr th {\n",
       "        vertical-align: top;\n",
       "    }\n",
       "\n",
       "    .dataframe thead th {\n",
       "        text-align: right;\n",
       "    }\n",
       "</style>\n",
       "<table border=\"1\" class=\"dataframe\">\n",
       "  <thead>\n",
       "    <tr style=\"text-align: right;\">\n",
       "      <th>country</th>\n",
       "      <th>Norway</th>\n",
       "      <th>United Kingdom</th>\n",
       "      <th>United States</th>\n",
       "      <th>Italy</th>\n",
       "      <th>Australia</th>\n",
       "    </tr>\n",
       "  </thead>\n",
       "  <tbody>\n",
       "    <tr>\n",
       "      <th>2000</th>\n",
       "      <td>36500.00</td>\n",
       "      <td>26200.00</td>\n",
       "      <td>36900.00</td>\n",
       "      <td>26900.00</td>\n",
       "      <td>25600.00</td>\n",
       "    </tr>\n",
       "    <tr>\n",
       "      <th>2001</th>\n",
       "      <td>37900.00</td>\n",
       "      <td>27600.00</td>\n",
       "      <td>37900.00</td>\n",
       "      <td>27900.00</td>\n",
       "      <td>26600.00</td>\n",
       "    </tr>\n",
       "    <tr>\n",
       "      <th>2002</th>\n",
       "      <td>38100.00</td>\n",
       "      <td>29100.00</td>\n",
       "      <td>38600.00</td>\n",
       "      <td>28500.00</td>\n",
       "      <td>27900.00</td>\n",
       "    </tr>\n",
       "  </tbody>\n",
       "</table>\n",
       "</div>"
      ],
      "text/plain": [
       "country   Norway  United Kingdom  United States    Italy  Australia\n",
       "2000    36500.00        26200.00       36900.00 26900.00   25600.00\n",
       "2001    37900.00        27600.00       37900.00 27900.00   26600.00\n",
       "2002    38100.00        29100.00       38600.00 28500.00   27900.00"
      ]
     },
     "execution_count": 30,
     "metadata": {},
     "output_type": "execute_result"
    }
   ],
   "source": [
    "# let's mask some developed countries with the name of developed\n",
    "developed = extract_group(gni, ['Norway', 'United Kingdom', 'United States', 'Italy', 'Australia'])\n",
    "developed.head(3)"
   ]
  },
  {
   "cell_type": "code",
   "execution_count": 31,
   "metadata": {},
   "outputs": [
    {
     "data": {
      "image/png": "[encoded data removed]",
      "text/plain": [
       "<matplotlib.figure.Figure at 0x7fe36495e940>"
      ]
     },
     "metadata": {
      "needs_background": "light"
     },
     "output_type": "display_data"
    }
   ],
   "source": [
    "# for them we plot a histogram\n",
    "developed.plot.hist(alpha = 0.3)\n",
    "\n",
    "plt.title('Some developed countries GNI')\n",
    "plt.xlabel('Dollars')\n",
    "\n",
    "plt.ticklabel_format(style = 'plain', axis = 'x')"
   ]
  },
  {
   "cell_type": "markdown",
   "metadata": {
    "collapsed": true
   },
   "source": [
    "Looking at the histogram we can say United Kingdom's GNI often between 30 and 40 thousand dollars, Italy most often had 30 dollars of GNI and Norway nearly always at the top.\n"
   ]
  },
  {
   "cell_type": "markdown",
   "metadata": {},
   "source": [
    "### Research Question 2  (What about looking at some social indicators, such as employment, HDI?!)"
   ]
  },
  {
   "cell_type": "code",
   "execution_count": 32,
   "metadata": {},
   "outputs": [
    {
     "data": {
      "text/plain": [
       "Text(0,0.5,'Percent (%)')"
      ]
     },
     "execution_count": 32,
     "metadata": {},
     "output_type": "execute_result"
    },
    {
     "data": {
      "image/png": "[encoded data removed]",
      "text/plain": [
       "<matplotlib.figure.Figure at 0x7fe3648bc4e0>"
      ]
     },
     "metadata": {
      "needs_background": "light"
     },
     "output_type": "display_data"
    }
   ],
   "source": [
    "# so let's pick some countries from europe and plot a visual\n",
    "# you can see from the visual above that Norway always have been the top of the countries, how its employment rate\n",
    "europe = extract_group(employment, ['Norway', 'Spain', 'Germany', 'France'])\n",
    "europe.plot(figsize = (12, 6))\n",
    "\n",
    "plt.title('Employment rate of some Europian countries')\n",
    "plt.xlabel('Years')\n",
    "plt.ylabel('Percent (%)')"
   ]
  },
  {
   "cell_type": "markdown",
   "metadata": {},
   "source": [
    "Norway's employment rate nearly above 60% during the period. Let's compare it with an asian country Japan."
   ]
  },
  {
   "cell_type": "code",
   "execution_count": 33,
   "metadata": {},
   "outputs": [
    {
     "data": {
      "text/plain": [
       "<matplotlib.axes._subplots.AxesSubplot at 0x7fe364663c18>"
      ]
     },
     "execution_count": 33,
     "metadata": {},
     "output_type": "execute_result"
    },
    {
     "data": {
      "image/png": "[encoded data removed]",
      "text/plain": [
       "<matplotlib.figure.Figure at 0x7fe36462e630>"
      ]
     },
     "metadata": {
      "needs_background": "light"
     },
     "output_type": "display_data"
    }
   ],
   "source": [
    "# let's just plot bar for each of them\n",
    "plot_my_chart('Employment rate in {}', 'Years', 'Percent (%)', employment, ['Norway', 'Japan'])"
   ]
  },
  {
   "cell_type": "markdown",
   "metadata": {},
   "source": [
    "I think it has been always on the top during the period. How about Human Development Index (HDI) in different countries. Oh! I'm sorry I haven't told you what does it mean? I think most of you know what is it. It includes several factors such as life expectancy, health and education. According to this factors its value calculated. Its value between 0-1, where 0 means very bad and 1 means that's perfect! So, let's dive in!"
   ]
  },
  {
   "cell_type": "code",
   "execution_count": 34,
   "metadata": {},
   "outputs": [
    {
     "data": {
      "text/plain": [
       "<matplotlib.axes._subplots.AxesSubplot at 0x7fe36460dfd0>"
      ]
     },
     "execution_count": 34,
     "metadata": {},
     "output_type": "execute_result"
    },
    {
     "data": {
      "image/png": "[encoded data removed]",
      "text/plain": [
       "<matplotlib.figure.Figure at 0x7fe3645c1d30>"
      ]
     },
     "metadata": {
      "needs_background": "light"
     },
     "output_type": "display_data"
    }
   ],
   "source": [
    "# what about exploring with some visuals\n",
    "plot_my_chart('HDI of {}', 'Years', 'Index', hdi, ['United States', 'United Kingdom', 'Norway'])"
   ]
  },
  {
   "cell_type": "markdown",
   "metadata": {},
   "source": [
    "All the selected countries have an index of greater than 0.8, because all of them developed countries. Let's look at dataset of developing countries."
   ]
  },
  {
   "cell_type": "markdown",
   "metadata": {},
   "source": [
    "Look at the the charts above, we have been customizing them with title and labels. And certainly we have been using it in most cases. What about making it a function and trying it in developing countries HDI visualisation. It will be helpful for our next vizualizations too. It helps us to improve our code's functioality. Are you agree? If yes, let's do that. Hey, guys who said 'no'! you will see it works fine."
   ]
  },
  {
   "cell_type": "code",
   "execution_count": 35,
   "metadata": {},
   "outputs": [],
   "source": [
    "def customize(title, labels):\n",
    "    plt.title(title)\n",
    "    plt.xlabel(labels[0])\n",
    "    plt.ylabel(labels[1])"
   ]
  },
  {
   "cell_type": "markdown",
   "metadata": {},
   "source": [
    "Our function is nearly ready. Let's try to use it."
   ]
  },
  {
   "cell_type": "code",
   "execution_count": 36,
   "metadata": {},
   "outputs": [
    {
     "data": {
      "image/png": "[encoded data removed]",
      "text/plain": [
       "<matplotlib.figure.Figure at 0x7fe36459f160>"
      ]
     },
     "metadata": {
      "needs_background": "light"
     },
     "output_type": "display_data"
    }
   ],
   "source": [
    "developing = extract_group(hdi, ['Uzbekistan', 'Tajikistan', 'Pakistan', 'India'])\n",
    "developing.plot(figsize = (12, 6))\n",
    "\n",
    "customize('HDI of developing countries', ['Years', 'Index'])"
   ]
  },
  {
   "cell_type": "markdown",
   "metadata": {},
   "source": [
    "Aha! Guys I have said it works right. And it perfectly did its job. Let's back to our visualisation! What does it tell  us about developing countries. It says that their indexes has always been lower during the period. In most times Uzbekistan has an index above 0.6 while Pakistan below 0.55. What about their life expectancy? Let's plot a histogram for quick overview."
   ]
  },
  {
   "cell_type": "code",
   "execution_count": 37,
   "metadata": {},
   "outputs": [
    {
     "data": {
      "image/png": "[encoded data removed]",
      "text/plain": [
       "<matplotlib.figure.Figure at 0x7fe3646730f0>"
      ]
     },
     "metadata": {
      "needs_background": "light"
     },
     "output_type": "display_data"
    }
   ],
   "source": [
    "developing = extract_group(life_expectancy, ['Uzbekistan', 'Tajikistan', 'Pakistan', 'India'])\n",
    "developing.hist(figsize = (10, 8));"
   ]
  },
  {
   "cell_type": "markdown",
   "metadata": {},
   "source": [
    "From this chart you may find out some imformations like this: Life expectancy in India at most times 66 ages while Pakistan it is equal to 62 ages. And in Uzbekistan and Tajikistan it is always between 66 - 70 ages. In general, Life expectancy of this countries has always been between 60 and 70 during the period of time."
   ]
  },
  {
   "cell_type": "markdown",
   "metadata": {},
   "source": [
    "Now, I think it is time to make conclusion. I found out how economics is difficult. Have you found out any answer to your questions?! But I can't. You are great if you found any! Let me know about your findings. Let's draw some conclusions."
   ]
  },
  {
   "cell_type": "markdown",
   "metadata": {},
   "source": [
    "<a id='conclusions'></a>\n",
    "## Conclusions\n",
    "\n",
    "> **Well** This economic and social metrics has its specific meaning and one itself cannot make sense. If all of the metrics advanced in your country, your country will be a developed country. You have seen all the visuals above some countries are advanced from one side while some others are backward in most ranges. But most of the countries that we have seen above have a tendency upwards in their indicators. And I am going to state that again economics is difficult and as well as statistics. If you haven't got right records on your hand you can't make any reliable decisions. I also came across the problem during my exploration. If you have seen the analysis above, you can spot all the investigations based on an old data. I was going to explore the data for current situation but there are not full records for my selected metrics. I mean I was going to compare my countries socio-economic metrics with others but on my country's records, there is only a limited period which has full records for my selections. And I thought it can't be fillable with some methods like mean value for all countries because they were economic and social indicators. Filling them with some other values may lead to us wrong conclusions. So, I had to pick up a period of time and start my investigation.  "
   ]
  },
  {
   "cell_type": "code",
   "execution_count": null,
   "metadata": {
    "collapsed": true
   },
   "outputs": [],
   "source": []
  }
 ],
 "metadata": {
  "kernelspec": {
   "display_name": "Python 3",
   "language": "python",
   "name": "python3"
  },
  "language_info": {
   "codemirror_mode": {
    "name": "ipython",
    "version": 3
   },
   "file_extension": ".py",
   "mimetype": "text/x-python",
   "name": "python",
   "nbconvert_exporter": "python",
   "pygments_lexer": "ipython3",
   "version": "3.6.3"
  }
 },
 "nbformat": 4,
 "nbformat_minor": 2
}
